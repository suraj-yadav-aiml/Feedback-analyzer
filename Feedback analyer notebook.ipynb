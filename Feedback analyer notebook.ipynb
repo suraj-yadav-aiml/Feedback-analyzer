{
 "cells": [
  {
   "cell_type": "code",
   "execution_count": 2,
   "metadata": {},
   "outputs": [],
   "source": [
    "from dotenv import load_dotenv"
   ]
  },
  {
   "cell_type": "code",
   "execution_count": 3,
   "metadata": {},
   "outputs": [],
   "source": [
    "from langchain_ollama import ChatOllama\n",
    "from langchain_core.output_parsers import StrOutputParser\n",
    "from langchain_core.prompts import ChatPromptTemplate\n",
    "from langchain_core.runnables import RunnableLambda"
   ]
  },
  {
   "cell_type": "code",
   "execution_count": 4,
   "metadata": {},
   "outputs": [],
   "source": [
    "base_url = \"http://localhost:11434\"\n",
    "model = \"llama3.2\"\n",
    "\n",
    "llm = ChatOllama(base_url=base_url,\n",
    "                 model=model,\n",
    "                 temperature=0.5)"
   ]
  },
  {
   "cell_type": "markdown",
   "metadata": {},
   "source": [
    "## Sentiment Chain"
   ]
  },
  {
   "cell_type": "code",
   "execution_count": 5,
   "metadata": {},
   "outputs": [],
   "source": [
    "sentiment_template = \"\"\"Sentiment Classification Instructions:\n",
    "\n",
    "Review Analysis Criteria:\n",
    "- Determine overall sentiment of the review\n",
    "- Use ONLY the provided text\n",
    "- Classify strictly as 'Positive' or 'Negative'\n",
    "- Base decision on:\n",
    "  * Emotional tone\n",
    "  * Explicit sentiment indicators\n",
    "  * Overall customer experience\n",
    "\n",
    "Review: {review}\n",
    "\n",
    "Output Requirements:\n",
    "- Single word response\n",
    "- Exact match: 'Positive' or 'Negative'\n",
    "- No additional explanation\n",
    "- No punctuation\n",
    "\n",
    "Classification:\"\"\"\n",
    "\n",
    "sentiment_prompt = ChatPromptTemplate.from_template(template=sentiment_template)\n",
    "\n",
    "sentiment_chain = sentiment_prompt | llm | StrOutputParser()"
   ]
  },
  {
   "cell_type": "code",
   "execution_count": 6,
   "metadata": {},
   "outputs": [
    {
     "data": {
      "text/plain": [
       "langchain_core.runnables.base.RunnableSequence"
      ]
     },
     "execution_count": 6,
     "metadata": {},
     "output_type": "execute_result"
    }
   ],
   "source": [
    "type(sentiment_chain)"
   ]
  },
  {
   "cell_type": "code",
   "execution_count": 11,
   "metadata": {},
   "outputs": [
    {
     "data": {
      "text/plain": [
       "'Positive'"
      ]
     },
     "execution_count": 11,
     "metadata": {},
     "output_type": "execute_result"
    }
   ],
   "source": [
    "sentiment_chain.invoke({\"review\": \"Thank you so much for providing such a great plateform for learning. I am really happy with the service\"})"
   ]
  },
  {
   "cell_type": "markdown",
   "metadata": {},
   "source": [
    "## Postive Chain"
   ]
  },
  {
   "cell_type": "code",
   "execution_count": 7,
   "metadata": {},
   "outputs": [],
   "source": [
    "positive_template = \"\"\"Customer Appreciation Response Guidelines:\n",
    "\n",
    "Response Objectives:\n",
    "- Express genuine gratitude\n",
    "- Create emotional connection\n",
    "- Encourage social media sharing\n",
    "- Reinforce positive brand experience\n",
    "\n",
    "Response Components:\n",
    "1. Personalized acknowledgment\n",
    "2. Specific reference to review highlights\n",
    "3. Invitation to share experience\n",
    "4. Social media sharing encouragement\n",
    "\n",
    "Tone Requirements:\n",
    "- Warm and authentic\n",
    "- Enthusiastic\n",
    "- Professional\n",
    "- Conversational\n",
    "\n",
    "Key Sharing Platforms:\n",
    "- Instagram\n",
    "- Twitter/X\n",
    "- LinkedIn\n",
    "- Facebook\n",
    "\n",
    "Review: {review}\n",
    "\"\"\"\n",
    "\n",
    "positive_prompt = ChatPromptTemplate.from_template(template=positive_template)\n",
    "\n",
    "positive_chain = (\n",
    "    positive_prompt | llm | StrOutputParser\n",
    ")"
   ]
  },
  {
   "cell_type": "code",
   "execution_count": 9,
   "metadata": {},
   "outputs": [
    {
     "data": {
      "text/plain": [
       "langchain_core.runnables.base.RunnableSequence"
      ]
     },
     "execution_count": 9,
     "metadata": {},
     "output_type": "execute_result"
    }
   ],
   "source": [
    "type(positive_chain)"
   ]
  },
  {
   "cell_type": "markdown",
   "metadata": {},
   "source": [
    "## Negative Chain"
   ]
  },
  {
   "cell_type": "code",
   "execution_count": 10,
   "metadata": {},
   "outputs": [],
   "source": [
    "negative_template = \"\"\"Negative Review Response Protocol:\n",
    "\n",
    "Response Objectives:\n",
    "- Demonstrate genuine empathy\n",
    "- Take full accountability\n",
    "- Provide clear resolution pathway\n",
    "- Rebuild customer trust\n",
    "\n",
    "Response Framework:\n",
    "1. Sincere, personal apology\n",
    "2. Acknowledge specific concerns\n",
    "3. Offer concrete resolution steps\n",
    "4. Provide direct communication channel\n",
    "\n",
    "Tone Requirements:\n",
    "- Empathetic\n",
    "- Professional\n",
    "- Solution-oriented\n",
    "- Non-defensive\n",
    "\n",
    "Communication Guidelines:\n",
    "- Validate customer's experience\n",
    "- Avoid blame or justification\n",
    "- Show commitment to improvement\n",
    "- Offer private follow-up\n",
    "\n",
    "Customer Engagement:\n",
    "- Direct email for detailed discussion\n",
    "- Propose specific resolution\n",
    "- Request further details\n",
    "- Optional compensation/remedy\n",
    "\n",
    "Contact Information:\n",
    "Customer Care Email: abc.info@gmail.com\n",
    "\n",
    "Review: {review}\n",
    "\"\"\"\n",
    "\n",
    "negative_prompt = ChatPromptTemplate.from_template(template=negative_template)\n",
    "\n",
    "negative_chain = negative_prompt | llm | StrOutputParser()"
   ]
  },
  {
   "cell_type": "code",
   "execution_count": 11,
   "metadata": {},
   "outputs": [],
   "source": [
    "def route(info):\n",
    "    if \"positve\" in info['sentiment'].lower():\n",
    "        return positive_chain\n",
    "    else:\n",
    "        return negative_chain"
   ]
  },
  {
   "cell_type": "code",
   "execution_count": 12,
   "metadata": {},
   "outputs": [],
   "source": [
    "feedback_chain = (\n",
    "    {'sentiment': sentiment_chain, 'review': lambda x:x['review']}\n",
    "    |RunnableLambda(route)\n",
    ")"
   ]
  },
  {
   "cell_type": "code",
   "execution_count": 13,
   "metadata": {},
   "outputs": [
    {
     "data": {
      "text/plain": [
       "langchain_core.runnables.base.RunnableSequence"
      ]
     },
     "execution_count": 13,
     "metadata": {},
     "output_type": "execute_result"
    }
   ],
   "source": [
    "type(feedback_chain)"
   ]
  },
  {
   "cell_type": "code",
   "execution_count": 36,
   "metadata": {},
   "outputs": [
    {
     "data": {
      "text/plain": [
       "{\n",
       "  sentiment: ChatPromptTemplate(input_variables=['review'], input_types={}, partial_variables={}, messages=[HumanMessagePromptTemplate(prompt=PromptTemplate(input_variables=['review'], input_types={}, partial_variables={}, template=\"Sentiment Classification Instructions:\\n\\nReview Analysis Criteria:\\n- Determine overall sentiment of the review\\n- Use ONLY the provided text\\n- Classify strictly as 'Positive' or 'Negative'\\n- Base decision on:\\n  * Emotional tone\\n  * Explicit sentiment indicators\\n  * Overall customer experience\\n\\nReview: {review}\\n\\nOutput Requirements:\\n- Single word response\\n- Exact match: 'Positive' or 'Negative'\\n- No additional explanation\\n- No punctuation\\n\\nClassification:\"), additional_kwargs={})])\n",
       "             | ChatOllama(model='llama3.2', temperature=0.5, base_url='http://localhost:11434')\n",
       "             | StrOutputParser(),\n",
       "  review: RunnableLambda(lambda x: x['review'])\n",
       "}\n",
       "| RunnableLambda(route)"
      ]
     },
     "execution_count": 36,
     "metadata": {},
     "output_type": "execute_result"
    }
   ],
   "source": [
    "feedback_chain"
   ]
  },
  {
   "cell_type": "code",
   "execution_count": 37,
   "metadata": {},
   "outputs": [
    {
     "name": "stdout",
     "output_type": "stream",
     "text": [
      "Dear [Reviewer's Name],\n",
      "\n",
      "I wanted to personally reach out and express my sincerest gratitude for taking the time to share your wonderful experience with our platform. It truly warms my heart to hear that you're happy with the service we provide, and I'm thrilled to have played a part in helping you learn and grow.\n",
      "\n",
      "Your kind words mean the world to us, and I want to assure you that we take pride in offering a high-quality learning environment that supports our customers' success. Your satisfaction is our top priority, and I'm grateful for your feedback.\n",
      "\n",
      "However, I did want to briefly discuss some minor concerns you may have had during your experience. If there's anything specific that didn't quite meet your expectations or if you encountered any difficulties, please don't hesitate to share them with me directly at abc.info@gmail.com. Your input is invaluable in helping us improve and refine our services.\n",
      "\n",
      "As a token of appreciation for your loyalty and trust, I'd like to propose the following resolution steps:\n",
      "\n",
      "* [Specific action or compensation, e.g., \"We'll provide an additional [X] hours of support\" or \"A complimentary upgrade to our premium plan\"].\n",
      "\n",
      "Please let me know if this aligns with your expectations, and I'll be happy to discuss further details. Your satisfaction is my top priority, and I'm committed to ensuring that you continue to have a positive experience with our platform.\n",
      "\n",
      "Once again, thank you for your kind words and for being an integral part of our community. I look forward to hearing from you soon and working together to provide the best possible service.\n",
      "\n",
      "Best regards,\n",
      "\n",
      "[Your Name]\n",
      "Customer Care Team\n"
     ]
    }
   ],
   "source": [
    "review = \"Thank you so much for providing such a great plateform for learning. I am really happy with the service.\"\n",
    "\n",
    "feedback_reply = feedback_chain.invoke(\n",
    "    input={'review': review}\n",
    ")\n",
    "\n",
    "print(feedback_reply)"
   ]
  },
  {
   "cell_type": "code",
   "execution_count": 38,
   "metadata": {},
   "outputs": [
    {
     "name": "stdout",
     "output_type": "stream",
     "text": [
      "Dear valued customer,\n",
      "\n",
      "I am truly sorry to hear that you are not satisfied with our service. I can imagine how frustrating it must be to experience a subpar experience, and for that, I apologize personally. My name is [Your Name], and I will do everything in my power to make things right.\n",
      "\n",
      "You expressed concerns about the quality of our service, and I want to acknowledge those specific issues. Please know that your feedback is invaluable to us, and we take all complaints seriously. We are committed to continuously improving our services to ensure that every customer has an exceptional experience.\n",
      "\n",
      "To address your concerns, I would like to propose the following concrete steps:\n",
      "\n",
      "1. [Specific action or resolution you plan to take]\n",
      "2. [Specific action or resolution you plan to take]\n",
      "\n",
      "I want to assure you that we value your trust and are committed to rebuilding it. We will do everything possible to prevent similar issues in the future.\n",
      "\n",
      "If you would like to discuss this further, I invite you to reply directly to this email so we can have a detailed conversation about your experience. Please feel free to share any additional details or concerns you may have.\n",
      "\n",
      "Additionally, if you believe that our service has fallen short of your expectations, we are willing to offer [optional compensation/remedy]. However, please let me know if there's anything else I can do to make things right.\n",
      "\n",
      "Once again, I apologize for the inconvenience caused, and I look forward to hearing from you soon. If you have any questions or concerns, please don't hesitate to reach out to me directly at abc.info@gmail.com.\n",
      "\n",
      "Thank you for your feedback, and I appreciate your patience and understanding in this matter.\n",
      "\n",
      "Best regards,\n",
      "\n",
      "[Your Name]\n",
      "Customer Care Representative\n",
      "abc.info@gmail.com\n"
     ]
    }
   ],
   "source": [
    "review = \"I am not happy with the service. It is not good.\"\n",
    "\n",
    "feedback_reply = feedback_chain.invoke(\n",
    "    input={'review': review}\n",
    ")\n",
    "\n",
    "print(feedback_reply)"
   ]
  },
  {
   "cell_type": "markdown",
   "metadata": {},
   "source": [
    "***"
   ]
  },
  {
   "cell_type": "code",
   "execution_count": 1,
   "metadata": {},
   "outputs": [
    {
     "name": "stdout",
     "output_type": "stream",
     "text": [
      "Dear valued customer,\n",
      "\n",
      "We want to extend our heartfelt gratitude for taking the time to share your wonderful experience with us. It truly means the world to know that you're happy with the service we've provided, and we're thrilled to have had the opportunity to support your learning journey.\n",
      "\n",
      "Your enthusiasm is contagious, and we're so glad to hear that you've found our platform to be an invaluable resource. We're committed to delivering exceptional experiences like yours, and we appreciate your feedback in helping us achieve this goal.\n",
      "\n",
      "We'd love for you to share your story with others! Your review on [review platform] has inspired us, and we hope it will do the same for others who are looking for a great learning experience. Would you mind sharing a photo or a brief description of your time with us on social media? We'd be delighted to see how our service has made a positive impact on your life.\n",
      "\n",
      "Thank you again for being an amazing customer! Your loyalty and support mean everything to us, and we look forward to serving you better in the future.\n",
      "\n",
      "Warm regards,\n",
      "[Your Name]\n"
     ]
    }
   ],
   "source": [
    "from typing import Dict, Any\n",
    "from langchain_ollama import ChatOllama\n",
    "from langchain_core.output_parsers import StrOutputParser\n",
    "from langchain_core.prompts import ChatPromptTemplate\n",
    "from langchain_core.runnables import RunnableLambda,RunnablePassthrough\n",
    "\n",
    "\n",
    "class FeedbackAnalyzer:\n",
    "    \"\"\"\n",
    "    FeedbackAnalyzer processes customer reviews to classify sentiment\n",
    "    and generate an appropriate response using LangChain's LLM tools.\n",
    "    \n",
    "    Attributes:\n",
    "        base_url (str): The base URL for the LLM model.\n",
    "        model_name (str): The name of the LLM model to use.\n",
    "        temperature (float): Temperature setting for the LLM model.\n",
    "    \"\"\"\n",
    "    def __init__(self, base_url: str, model_name: str, temperature: float = 0.5):\n",
    "        self.base_url = base_url\n",
    "        self.model_name = model_name\n",
    "        self.temperature = temperature\n",
    "        self.llm = ChatOllama(\n",
    "            base_url=self.base_url,\n",
    "            model=self.model_name,\n",
    "            temperature=self.temperature\n",
    "        )\n",
    "        self.sentiment_chain = self._build_sentiment_chain()\n",
    "        self.positive_chain = self._build_positive_chain()\n",
    "        self.negative_chain = self._build_negative_chain()\n",
    "\n",
    "    def _build_sentiment_chain(self) -> RunnableLambda:\n",
    "        \"\"\"\n",
    "        Creates the sentiment classification chain.\n",
    "\n",
    "        Returns:\n",
    "            RunnableLambda: The sentiment classification chain.\n",
    "        \"\"\"\n",
    "        template = \"\"\"Sentiment Classification Instructions:\n",
    "\n",
    "        Review Analysis Criteria:\n",
    "        - Determine overall sentiment of the review\n",
    "        - Use ONLY the provided text\n",
    "        - Classify strictly as 'Positive' or 'Negative'\n",
    "        - Base decision on:\n",
    "          * Emotional tone\n",
    "          * Explicit sentiment indicators\n",
    "          * Overall customer experience\n",
    "\n",
    "        Review: {review}\n",
    "\n",
    "        Output Requirements:\n",
    "        - Single word response\n",
    "        - Exact match: 'Positive' or 'Negative'\n",
    "        - No additional explanation\n",
    "        - No punctuation\n",
    "\n",
    "        Classification:\"\"\"\n",
    "        prompt = ChatPromptTemplate.from_template(template=template)\n",
    "        return prompt | self.llm | StrOutputParser()\n",
    "\n",
    "    def _build_positive_chain(self) -> RunnableLambda:\n",
    "        \"\"\"\n",
    "        Creates the positive response generation chain.\n",
    "\n",
    "        Returns:\n",
    "            RunnableLambda: The positive response chain.\n",
    "        \"\"\"\n",
    "        template = \"\"\"Customer Appreciation Response Guidelines:\n",
    "\n",
    "        Response Objectives:\n",
    "        - Express genuine gratitude\n",
    "        - Create emotional connection\n",
    "        - Encourage social media sharing\n",
    "        - Reinforce positive brand experience\n",
    "\n",
    "        Response Components:\n",
    "        1. Personalized acknowledgment\n",
    "        2. Specific reference to review highlights\n",
    "        3. Invitation to share experience\n",
    "        4. Social media sharing encouragement\n",
    "\n",
    "        Tone Requirements:\n",
    "        - Warm and authentic\n",
    "        - Enthusiastic\n",
    "        - Professional\n",
    "        - Conversational\n",
    "\n",
    "        Key Sharing Platforms:\n",
    "        - Instagram\n",
    "        - Twitter/X\n",
    "        - LinkedIn\n",
    "        - Facebook\n",
    "\n",
    "        Review: {review}\n",
    "\n",
    "        Output Requirements:\n",
    "        - Dont start the reply with `Here's a response that follows the guidelines:`.\n",
    "        - Just write the final response for user, in a structured format\n",
    "        \"\"\"\n",
    "        prompt = ChatPromptTemplate.from_template(template=template)\n",
    "        return prompt | self.llm | StrOutputParser()\n",
    "\n",
    "    def _build_negative_chain(self) -> RunnableLambda:\n",
    "        \"\"\"\n",
    "        Creates the negative response generation chain.\n",
    "\n",
    "        Returns:\n",
    "            RunnableLambda: The negative response chain.\n",
    "        \"\"\"\n",
    "        template = \"\"\"Negative Review Response Protocol:\n",
    "\n",
    "        Response Objectives:\n",
    "        - Demonstrate genuine empathy\n",
    "        - Take full accountability\n",
    "        - Provide clear resolution pathway\n",
    "        - Rebuild customer trust\n",
    "\n",
    "        Response Framework:\n",
    "        1. Sincere, personal apology\n",
    "        2. Acknowledge specific concerns\n",
    "        3. Offer concrete resolution steps\n",
    "        4. Provide direct communication channel\n",
    "\n",
    "        Tone Requirements:\n",
    "        - Empathetic\n",
    "        - Professional\n",
    "        - Solution-oriented\n",
    "        - Non-defensive\n",
    "\n",
    "        Communication Guidelines:\n",
    "        - Validate customer's experience\n",
    "        - Avoid blame or justification\n",
    "        - Show commitment to improvement\n",
    "        - Offer private follow-up\n",
    "\n",
    "        Customer Engagement:\n",
    "        - Direct email for detailed discussion\n",
    "        - Propose specific resolution\n",
    "        - Request further details\n",
    "        - Optional compensation/remedy\n",
    "\n",
    "        Contact Information:\n",
    "        Customer Care Email: abc.info@gmail.com\n",
    "\n",
    "        Review: {review}\n",
    "\n",
    "        Output Requirements:\n",
    "        - Dont start the reply with `Here's a response that follows the guidelines:`.\n",
    "        - Just write the final response for user, in a structured format\n",
    "        \"\"\"\n",
    "        prompt = ChatPromptTemplate.from_template(template=template)\n",
    "        return prompt | self.llm | StrOutputParser()\n",
    "\n",
    "    def _route_response(self, sentiment: str) -> RunnableLambda:\n",
    "        \"\"\"\n",
    "        Routes the feedback chain based on sentiment.\n",
    "\n",
    "        Args:\n",
    "            sentiment (str): The sentiment classification ('Positive' or 'Negative').\n",
    "\n",
    "        Returns:\n",
    "            RunnableLambda: The appropriate response chain.\n",
    "        \"\"\"\n",
    "        if sentiment.lower() == \"positive\":\n",
    "            return self.positive_chain\n",
    "        else:\n",
    "            return self.negative_chain\n",
    "\n",
    "    def process_feedback(self, review: str) -> str:\n",
    "        \"\"\"\n",
    "        Processes a customer review and generates a response.\n",
    "\n",
    "        Args:\n",
    "            review (str): The customer review text.\n",
    "\n",
    "        Returns:\n",
    "            str: The generated response.\n",
    "        \"\"\"\n",
    "        try:\n",
    "            feedback_chain = {\n",
    "                \"sentiment\": self.sentiment_chain,\n",
    "                \"review\": RunnablePassthrough()\n",
    "            } | RunnableLambda(lambda info: self._route_response(info[\"sentiment\"]))\n",
    "\n",
    "            return feedback_chain.invoke(input={\"review\": review})\n",
    "        except Exception as e:\n",
    "            raise RuntimeError(f\"Error processing feedback: {e}\")\n",
    "\n",
    "\n",
    "if __name__ == \"__main__\":\n",
    "    # Example Usage\n",
    "    try:\n",
    "        analyzer = FeedbackAnalyzer(base_url=\"http://localhost:11434\", model_name=\"llama3.2\")\n",
    "        review = \"Thank you so much for providing such a great platform for learning. I am really happy with the service.\"\n",
    "        feedback_reply = analyzer.process_feedback(review)\n",
    "        print(feedback_reply)\n",
    "    except RuntimeError as e:\n",
    "        print(e)\n"
   ]
  },
  {
   "cell_type": "code",
   "execution_count": null,
   "metadata": {},
   "outputs": [],
   "source": []
  }
 ],
 "metadata": {
  "kernelspec": {
   "display_name": "feedback-venv",
   "language": "python",
   "name": "python3"
  },
  "language_info": {
   "codemirror_mode": {
    "name": "ipython",
    "version": 3
   },
   "file_extension": ".py",
   "mimetype": "text/x-python",
   "name": "python",
   "nbconvert_exporter": "python",
   "pygments_lexer": "ipython3",
   "version": "3.11.5"
  }
 },
 "nbformat": 4,
 "nbformat_minor": 2
}
